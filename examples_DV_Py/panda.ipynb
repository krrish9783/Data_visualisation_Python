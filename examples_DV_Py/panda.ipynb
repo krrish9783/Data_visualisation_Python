{
 "cells": [
  {
   "cell_type": "code",
   "execution_count": 4,
   "id": "3855676d",
   "metadata": {},
   "outputs": [
    {
     "name": "stdout",
     "output_type": "stream",
     "text": [
      "     Name  Age    City  Salary\n",
      "0    John   25      NY    5000\n",
      "1    Emma   30  London    6000\n",
      "2    Liam   28  Sydney    5500\n",
      "3  Olivia   35   Paris    7000\n",
      "Mean Age: 29.5\n",
      "Maximum Salary: 7000\n"
     ]
    }
   ],
   "source": [
    "import pandas as pd\n",
    "\n",
    "# Create a sample DataFrame\n",
    "data = {'Name': ['John', 'Emma', 'Liam', 'Olivia'],\n",
    "        'Age': [25, 30, 28, 35],\n",
    "        'City': ['NY', 'London', 'Sydney', 'Paris'],\n",
    "        'Salary': [5000, 6000, 5500, 7000]}\n",
    "\n",
    "df = pd.DataFrame(data)\n",
    "\n",
    "# Display the DataFrame\n",
    "print(df)\n",
    "\n",
    "# Perform basic data analysis using Pandas\n",
    "# Calculate the mean of the 'Age' column\n",
    "age_mean = df['Age'].mean()\n",
    "print('Mean Age:', age_mean)\n",
    "\n",
    "# Calculate the maximum salary\n",
    "max_salary = df['Salary'].max()\n",
    "print('Maximum Salary:', max_salary)\n"
   ]
  },
  {
   "cell_type": "code",
   "execution_count": null,
   "id": "7c1b5e6d",
   "metadata": {},
   "outputs": [],
   "source": []
  },
  {
   "cell_type": "code",
   "execution_count": null,
   "id": "8e018a1c",
   "metadata": {},
   "outputs": [],
   "source": []
  }
 ],
 "metadata": {
  "kernelspec": {
   "display_name": "Python 3 (ipykernel)",
   "language": "python",
   "name": "python3"
  },
  "language_info": {
   "codemirror_mode": {
    "name": "ipython",
    "version": 3
   },
   "file_extension": ".py",
   "mimetype": "text/x-python",
   "name": "python",
   "nbconvert_exporter": "python",
   "pygments_lexer": "ipython3",
   "version": "3.10.9"
  }
 },
 "nbformat": 4,
 "nbformat_minor": 5
}
