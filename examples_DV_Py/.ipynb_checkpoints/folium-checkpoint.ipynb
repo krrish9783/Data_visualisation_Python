{
 "cells": [
  {
   "cell_type": "code",
   "execution_count": 5,
   "id": "98494a6b",
   "metadata": {},
   "outputs": [],
   "source": [
    "import folium\n",
    "import pandas as pd\n",
    "import numpy as np\n",
    "\n",
    "# Generate dummy data\n",
    "data = pd.DataFrame({\n",
    "    'City': ['London', 'Paris', 'New York', 'Tokyo'],\n",
    "    'Latitude': [51.5074, 48.8566, 40.7128, 35.6895],\n",
    "    'Longitude': [-0.1278, 2.3522, -74.0060, 139.6917],\n",
    "    'Population': [8908081, 2140526, 8398748, 13929286]\n",
    "})\n",
    "\n",
    "# Create a map centered on the mean coordinates\n",
    "m = folium.Map(location=[data['Latitude'].mean(), data['Longitude'].mean()], zoom_start=2)\n",
    "\n",
    "# Add markers for each city with population information\n",
    "for _, row in data.iterrows():\n",
    "    folium.Marker(\n",
    "        location=[row['Latitude'], row['Longitude']],\n",
    "        popup=f\"City: {row['City']}<br>Population: {row['Population']}\"\n",
    "    ).add_to(m)\n",
    "\n",
    "# Display the map\n",
    "m.save('dummy_map.html')\n"
   ]
  },
  {
   "cell_type": "code",
   "execution_count": null,
   "id": "bb97b365",
   "metadata": {},
   "outputs": [],
   "source": []
  }
 ],
 "metadata": {
  "kernelspec": {
   "display_name": "Python 3 (ipykernel)",
   "language": "python",
   "name": "python3"
  },
  "language_info": {
   "codemirror_mode": {
    "name": "ipython",
    "version": 3
   },
   "file_extension": ".py",
   "mimetype": "text/x-python",
   "name": "python",
   "nbconvert_exporter": "python",
   "pygments_lexer": "ipython3",
   "version": "3.10.9"
  }
 },
 "nbformat": 4,
 "nbformat_minor": 5
}
